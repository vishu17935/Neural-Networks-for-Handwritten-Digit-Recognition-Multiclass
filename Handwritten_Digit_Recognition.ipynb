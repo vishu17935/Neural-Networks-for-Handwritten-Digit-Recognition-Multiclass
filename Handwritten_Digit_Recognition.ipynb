{
  "nbformat": 4,
  "nbformat_minor": 0,
  "metadata": {
    "colab": {
      "provenance": [],
      "authorship_tag": "ABX9TyPVOuhMuTqB/JjakKZ7EXRQ",
      "include_colab_link": true
    },
    "kernelspec": {
      "name": "python3",
      "display_name": "Python 3"
    },
    "language_info": {
      "name": "python"
    }
  },
  "cells": [
    {
      "cell_type": "markdown",
      "metadata": {
        "id": "view-in-github",
        "colab_type": "text"
      },
      "source": [
        "<a href=\"https://colab.research.google.com/github/vishu17935/Neural-Networks-for-Handwritten-Digit-Recognition-Multiclass/blob/main/Handwritten_Digit_Recognition.ipynb\" target=\"_parent\"><img src=\"https://colab.research.google.com/assets/colab-badge.svg\" alt=\"Open In Colab\"/></a>"
      ]
    },
    {
      "cell_type": "code",
      "execution_count": 55,
      "metadata": {
        "colab": {
          "base_uri": "https://localhost:8080/"
        },
        "id": "e2gJlBA0AsGk",
        "outputId": "9c03bc1e-5ee4-4ed9-c577-17ec924f99d0"
      },
      "outputs": [
        {
          "output_type": "stream",
          "name": "stdout",
          "text": [
            "my_softmax(z):         [0.03 0.09 0.24 0.64]\n",
            "tensorflow softmax(z): [0.03 0.09 0.24 0.64]\n"
          ]
        }
      ],
      "source": [
        "import numpy as np\n",
        "import tensorflow as tf\n",
        "from tensorflow.keras.models import Sequential\n",
        "from tensorflow.keras.layers import Dense\n",
        "import matplotlib.pyplot as plt\n",
        "import pandas as pd\n",
        "import io\n",
        "from sklearn.impute import SimpleImputer\n",
        "\n",
        "imputer = SimpleImputer(strategy='mean')  # Choose strategy: mean, median, most_frequent, constant\n",
        "#plt.style.use('./deeplearning.mplstyle')\n",
        "\n",
        "import logging\n",
        "logging.getLogger(\"tensorflow\").setLevel(logging.ERROR)\n",
        "tf.autograph.set_verbosity(0)\n",
        "\n",
        "np.set_printoptions(precision=2)\n",
        "\n",
        "def my_softmax(z):\n",
        "    \"\"\" Softmax converts a vector of values to a probability distribution.\n",
        "    Args:\n",
        "      z (ndarray (N,))  : input data, N features\n",
        "    Returns:\n",
        "      a (ndarray (N,))  : softmax of z\n",
        "    \"\"\"\n",
        "    g = np.exp(z)\n",
        "    a = g / np.sum(g)\n",
        "    return a\n",
        "\n",
        "z = np.array([1., 2., 3., 4.])\n",
        "a = my_softmax(z)\n",
        "atf = tf.nn.softmax(z)\n",
        "print(f\"my_softmax(z):         {a}\")\n",
        "print(f\"tensorflow softmax(z): {atf}\")\n",
        "\n",
        "# Load your new dataset with 1784 pixels per image\n",
        "# X, y = load_new_data()  # Replace this with the actual function to load your new dataset\n",
        "# For demonstration purposes, assuming X and y are loaded correctly\n",
        "path = '/content/ninja.csv'\n",
        "\n",
        "# Load the dataset\n",
        "X = pd.read_csv(path, skiprows=1)\n",
        "X = X.iloc[1:].reset_index(drop=True)\n",
        "\n",
        "y = X.iloc[:, 0].values\n",
        "X = X.drop(X.columns[0], axis=1)\n",
        "X=X/255.0\n",
        "X = imputer.fit_transform(X)\n",
        "m, n = X.shape"
      ]
    },
    {
      "cell_type": "code",
      "source": [
        "print(m,n)"
      ],
      "metadata": {
        "colab": {
          "base_uri": "https://localhost:8080/"
        },
        "id": "1UIpHvH-GgHz",
        "outputId": "66f5a4fa-84a9-4d17-dcaa-4f29afb6f2bf"
      },
      "execution_count": 56,
      "outputs": [
        {
          "output_type": "stream",
          "name": "stdout",
          "text": [
            "19503 784\n"
          ]
        }
      ]
    },
    {
      "cell_type": "code",
      "source": [
        "print(X)\n",
        "#print(y)"
      ],
      "metadata": {
        "colab": {
          "base_uri": "https://localhost:8080/"
        },
        "id": "wHAPEdAjLKAL",
        "outputId": "af88da40-61e7-4389-fd67-6ec5d95ede41"
      },
      "execution_count": 57,
      "outputs": [
        {
          "output_type": "stream",
          "name": "stdout",
          "text": [
            "[[0. 0. 0. ... 0. 0. 0.]\n",
            " [0. 0. 0. ... 0. 0. 0.]\n",
            " [0. 0. 0. ... 0. 0. 0.]\n",
            " ...\n",
            " [0. 0. 0. ... 0. 0. 0.]\n",
            " [0. 0. 0. ... 0. 0. 0.]\n",
            " [0. 0. 0. ... 0. 0. 0.]]\n"
          ]
        }
      ]
    },
    {
      "cell_type": "code",
      "source": [
        "print ('The shape of X is: ' + str(X.shape))\n",
        "print ('The shape of y is: ' + str(y.shape))"
      ],
      "metadata": {
        "colab": {
          "base_uri": "https://localhost:8080/"
        },
        "id": "57drgezHHHT2",
        "outputId": "e023ffa8-a0aa-4cec-88fa-75b90e8539da"
      },
      "execution_count": 58,
      "outputs": [
        {
          "output_type": "stream",
          "name": "stdout",
          "text": [
            "The shape of X is: (19503, 784)\n",
            "The shape of y is: (19503,)\n"
          ]
        }
      ]
    },
    {
      "cell_type": "code",
      "source": [
        "\n",
        "tf.random.set_seed(1234) # for consistent results\n",
        "model = Sequential(\n",
        "    [\n",
        "        ### START CODE HERE ###\n",
        "        tf.keras.Input(shape=(784,)),\n",
        "        Dense(25,activation='relu',name='V'),\n",
        "        Dense(15,activation='relu',name='I'),\n",
        "        Dense(10,activation='linear',name='S'),\n",
        "\n",
        "\n",
        "\n",
        "        ### END CODE HERE ###\n",
        "    ], name = \"my_model\"\n",
        ")"
      ],
      "metadata": {
        "id": "EXk25PvYH3Gg"
      },
      "execution_count": 59,
      "outputs": []
    },
    {
      "cell_type": "code",
      "source": [
        "model.summary()"
      ],
      "metadata": {
        "colab": {
          "base_uri": "https://localhost:8080/"
        },
        "id": "vARinwY4H8Co",
        "outputId": "32dfd9fa-7e12-4a1e-cd14-773b64b8c971"
      },
      "execution_count": 60,
      "outputs": [
        {
          "output_type": "stream",
          "name": "stdout",
          "text": [
            "Model: \"my_model\"\n",
            "_________________________________________________________________\n",
            " Layer (type)                Output Shape              Param #   \n",
            "=================================================================\n",
            " V (Dense)                   (None, 25)                19625     \n",
            "                                                                 \n",
            " I (Dense)                   (None, 15)                390       \n",
            "                                                                 \n",
            " S (Dense)                   (None, 10)                160       \n",
            "                                                                 \n",
            "=================================================================\n",
            "Total params: 20175 (78.81 KB)\n",
            "Trainable params: 20175 (78.81 KB)\n",
            "Non-trainable params: 0 (0.00 Byte)\n",
            "_________________________________________________________________\n"
          ]
        }
      ]
    },
    {
      "cell_type": "code",
      "source": [
        "[layer1, layer2, layer3] = model.layers"
      ],
      "metadata": {
        "id": "OGArNfRgIMfi"
      },
      "execution_count": 61,
      "outputs": []
    },
    {
      "cell_type": "code",
      "source": [
        "#### Examine Weights shapes\n",
        "W1,b1 = layer1.get_weights()\n",
        "W2,b2 = layer2.get_weights()\n",
        "W3,b3 = layer3.get_weights()\n",
        "print(f\"W1 shape = {W1.shape}, b1 shape = {b1.shape}\")\n",
        "print(f\"W2 shape = {W2.shape}, b2 shape = {b2.shape}\")\n",
        "print(f\"W3 shape = {W3.shape}, b3 shape = {b3.shape}\")"
      ],
      "metadata": {
        "colab": {
          "base_uri": "https://localhost:8080/"
        },
        "id": "g_eeozA6IQFg",
        "outputId": "2323424b-ffbf-452a-923c-617283ab1dec"
      },
      "execution_count": 62,
      "outputs": [
        {
          "output_type": "stream",
          "name": "stdout",
          "text": [
            "W1 shape = (784, 25), b1 shape = (25,)\n",
            "W2 shape = (25, 15), b2 shape = (15,)\n",
            "W3 shape = (15, 10), b3 shape = (10,)\n"
          ]
        }
      ]
    },
    {
      "cell_type": "code",
      "source": [
        "model.compile(\n",
        "    loss=tf.keras.losses.SparseCategoricalCrossentropy(from_logits=True),\n",
        "    optimizer=tf.keras.optimizers.Adam(learning_rate=0.001),\n",
        ")\n",
        "\n",
        "history = model.fit(\n",
        "    X,y,\n",
        "    epochs=40\n",
        ")"
      ],
      "metadata": {
        "colab": {
          "base_uri": "https://localhost:8080/"
        },
        "id": "L8wqNB1MIVb6",
        "outputId": "443f317e-1c9f-45b6-9ffb-5364abf3f104"
      },
      "execution_count": 63,
      "outputs": [
        {
          "output_type": "stream",
          "name": "stdout",
          "text": [
            "Epoch 1/40\n",
            "610/610 [==============================] - 2s 2ms/step - loss: 0.6938\n",
            "Epoch 2/40\n",
            "610/610 [==============================] - 1s 2ms/step - loss: 0.3149\n",
            "Epoch 3/40\n",
            "610/610 [==============================] - 2s 3ms/step - loss: 0.2519\n",
            "Epoch 4/40\n",
            "610/610 [==============================] - 2s 3ms/step - loss: 0.2156\n",
            "Epoch 5/40\n",
            "610/610 [==============================] - 1s 2ms/step - loss: 0.1930\n",
            "Epoch 6/40\n",
            "610/610 [==============================] - 1s 2ms/step - loss: 0.1715\n",
            "Epoch 7/40\n",
            "610/610 [==============================] - 1s 2ms/step - loss: 0.1582\n",
            "Epoch 8/40\n",
            "610/610 [==============================] - 1s 2ms/step - loss: 0.1417\n",
            "Epoch 9/40\n",
            "610/610 [==============================] - 1s 2ms/step - loss: 0.1342\n",
            "Epoch 10/40\n",
            "610/610 [==============================] - 1s 2ms/step - loss: 0.1231\n",
            "Epoch 11/40\n",
            "610/610 [==============================] - 1s 2ms/step - loss: 0.1137\n",
            "Epoch 12/40\n",
            "610/610 [==============================] - 2s 3ms/step - loss: 0.1062\n",
            "Epoch 13/40\n",
            "610/610 [==============================] - 2s 3ms/step - loss: 0.0984\n",
            "Epoch 14/40\n",
            "610/610 [==============================] - 2s 3ms/step - loss: 0.0936\n",
            "Epoch 15/40\n",
            "610/610 [==============================] - 1s 2ms/step - loss: 0.0863\n",
            "Epoch 16/40\n",
            "610/610 [==============================] - 1s 2ms/step - loss: 0.0796\n",
            "Epoch 17/40\n",
            "610/610 [==============================] - 1s 2ms/step - loss: 0.0754\n",
            "Epoch 18/40\n",
            "610/610 [==============================] - 1s 2ms/step - loss: 0.0700\n",
            "Epoch 19/40\n",
            "610/610 [==============================] - 1s 2ms/step - loss: 0.0647\n",
            "Epoch 20/40\n",
            "610/610 [==============================] - 1s 2ms/step - loss: 0.0612\n",
            "Epoch 21/40\n",
            "610/610 [==============================] - 1s 2ms/step - loss: 0.0567\n",
            "Epoch 22/40\n",
            "610/610 [==============================] - 2s 3ms/step - loss: 0.0548\n",
            "Epoch 23/40\n",
            "610/610 [==============================] - 2s 4ms/step - loss: 0.0486\n",
            "Epoch 24/40\n",
            "610/610 [==============================] - 2s 3ms/step - loss: 0.0478\n",
            "Epoch 25/40\n",
            "610/610 [==============================] - 1s 2ms/step - loss: 0.0437\n",
            "Epoch 26/40\n",
            "610/610 [==============================] - 1s 2ms/step - loss: 0.0415\n",
            "Epoch 27/40\n",
            "610/610 [==============================] - 1s 2ms/step - loss: 0.0380\n",
            "Epoch 28/40\n",
            "610/610 [==============================] - 1s 2ms/step - loss: 0.0350\n",
            "Epoch 29/40\n",
            "610/610 [==============================] - 1s 2ms/step - loss: 0.0350\n",
            "Epoch 30/40\n",
            "610/610 [==============================] - 1s 2ms/step - loss: 0.0292\n",
            "Epoch 31/40\n",
            "610/610 [==============================] - 1s 2ms/step - loss: 0.0281\n",
            "Epoch 32/40\n",
            "610/610 [==============================] - 2s 4ms/step - loss: 0.0280\n",
            "Epoch 33/40\n",
            "610/610 [==============================] - 2s 3ms/step - loss: 0.0253\n",
            "Epoch 34/40\n",
            "610/610 [==============================] - 1s 2ms/step - loss: 0.0238\n",
            "Epoch 35/40\n",
            "610/610 [==============================] - 1s 2ms/step - loss: 0.0235\n",
            "Epoch 36/40\n",
            "610/610 [==============================] - 1s 2ms/step - loss: 0.0187\n",
            "Epoch 37/40\n",
            "610/610 [==============================] - 1s 2ms/step - loss: 0.0241\n",
            "Epoch 38/40\n",
            "610/610 [==============================] - 1s 2ms/step - loss: 0.0194\n",
            "Epoch 39/40\n",
            "610/610 [==============================] - 1s 2ms/step - loss: 0.0162\n",
            "Epoch 40/40\n",
            "610/610 [==============================] - 1s 2ms/step - loss: 0.0150\n"
          ]
        }
      ]
    },
    {
      "cell_type": "code",
      "source": [
        "def display_digit(pixel_array):\n",
        "    # Reshape the 1D array (784,) into a 2D array (28, 28)\n",
        "    image = np.reshape(pixel_array, (28, 28))\n",
        "\n",
        "    # Display the image\n",
        "    plt.figure(figsize=(3, 3))  # Adjust the figure size as needed\n",
        "    plt.imshow(image, cmap='gray')\n",
        "    plt.axis('off')  # Hide axis ticks and labels\n",
        "    plt.show()"
      ],
      "metadata": {
        "id": "9wd_qDzBSuuA"
      },
      "execution_count": 66,
      "outputs": []
    },
    {
      "cell_type": "code",
      "source": [
        "image_of_two = X[1014]\n",
        "display_digit(image_of_two)\n",
        "\n",
        "prediction = model.predict(image_of_two.reshape(1,784))  # prediction\n",
        "\n",
        "print(f\" predicting a Two: \\n{prediction}\")\n",
        "print(f\" Largest Prediction index: {np.argmax(prediction)}\")"
      ],
      "metadata": {
        "colab": {
          "base_uri": "https://localhost:8080/",
          "height": 337
        },
        "id": "OKIDNjS_QY_a",
        "outputId": "303e19f5-a24e-48da-b6bd-20f713c91944"
      },
      "execution_count": 71,
      "outputs": [
        {
          "output_type": "display_data",
          "data": {
            "text/plain": [
              "<Figure size 300x300 with 1 Axes>"
            ],
            "image/png": "[encoded data removed]"
          },
          "metadata": {}
        },
        {
          "output_type": "stream",
          "name": "stdout",
          "text": [
            "1/1 [==============================] - 0s 39ms/step\n",
            " predicting a Two: \n",
            "[[-14.4  -13.89   4.24  -8.31 -15.22   1.98   2.15 -19.02  10.45 -10.41]]\n",
            " Largest Prediction index: 8\n"
          ]
        }
      ]
    },
    {
      "cell_type": "code",
      "source": [
        "prediction_p = tf.nn.softmax(prediction)\n",
        "\n",
        "print(f\" predicting a Two. Probability vector: \\n{prediction_p}\")\n",
        "print(f\"Total of predictions: {np.sum(prediction_p):0.3f}\")"
      ],
      "metadata": {
        "colab": {
          "base_uri": "https://localhost:8080/"
        },
        "id": "b6zQGz9NTymT",
        "outputId": "11c45123-9fb7-44ea-fb7c-c74ddb5e5c41"
      },
      "execution_count": 72,
      "outputs": [
        {
          "output_type": "stream",
          "name": "stdout",
          "text": [
            " predicting a Two. Probability vector: \n",
            "[[1.62e-11 2.67e-11 2.00e-03 7.08e-09 7.05e-12 2.09e-04 2.48e-04 1.58e-13\n",
            "  9.98e-01 8.66e-10]]\n",
            "Total of predictions: 1.000\n"
          ]
        }
      ]
    },
    {
      "cell_type": "code",
      "source": [
        "yhat = np.argmax(prediction_p)\n",
        "\n",
        "print(f\"np.argmax(prediction_p): {yhat}\")"
      ],
      "metadata": {
        "colab": {
          "base_uri": "https://localhost:8080/"
        },
        "id": "j16uR-iRT3oG",
        "outputId": "504d541e-f9c7-42bd-d7f9-c4c4de2e1e95"
      },
      "execution_count": 73,
      "outputs": [
        {
          "output_type": "stream",
          "name": "stdout",
          "text": [
            "np.argmax(prediction_p): 8\n"
          ]
        }
      ]
    }
  ]
}